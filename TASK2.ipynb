{
 "cells": [
  {
   "cell_type": "markdown",
   "id": "00b9c931-f257-4e64-aef2-cc3fdb2da7e3",
   "metadata": {},
   "source": []
  },
  {
   "cell_type": "markdown",
   "id": "930b97d9-aaa0-4903-b07f-3c48c97cc206",
   "metadata": {},
   "source": [
    "**AI-Driven IoT Concept Proposal: Smart Agriculture System**\r\n",
    "\r\n",
    "**Title: SmartAgriAI: AI-Powered IoT System for Crop Yield Prediction**\r\n",
    "\r\n",
    "**1. Overview:**\r\n",
    "SmartAgriAI is a proposed smart agriculture system that leverages the integration of Artificial Intelligence (AI) and the Internet of Things (IoT) to enhance agricultural productivity. The system focuses on predicting crop yields by collecting real-time data from various sensors deployed in the field. This data is processed using AI algorithms to generate actionable insights for farmers.\r\n",
    "\r\n",
    "**2. Required IoT Sensors:**\r\n",
    "To monitor environmental and soil conditions effectively, the following sensors will be deployed:\r\n",
    "\r\n",
    "* **Soil Moisture Sensor:** Measures water content in the soil.\r\n",
    "* **Temperature Sensor:** Monitors both soil and atmospheric temperature.\r\n",
    "* **Humidity Sensor:** Tracks atmospheric moisture levels.\r\n",
    "* **pH Sensor:** Measures the acidity or alkalinity of the soil.\r\n",
    "* **Light Sensor (Photometer):** Evaluates the intensity of sunlight exposure.\r\n",
    "*mera (Optional):** Assesses plant health using light reflectance.\r\n",
    "\r\n",
    "**3. AI Model for Crop Yield Prediction:**\r\n",
    "\r\n",
    "* **Model Type:** Supervised Learning\r\n",
    "* **Recommended Algorithm:** Random Forest Regressor or XGBoost\r\n",
    "* **Input Features:**\r\n",
    "\r\n",
    "  * Soil moisture, temperature, humidity\r\n",
    "  * pH values\r\n",
    "  * Light intensity\r\n",
    "  * Historical yield records\r\n",
    "  * Rainfall and planting schedules\r\n",
    "* **Target Output:** Predicted crop yield (e.g., in kg/hectare)\r\n",
    "\r\n",
    "**Why Random Forest?**\r\n",
    "\r\n",
    "* Handles nonlinear relationships well\r\n",
    "* Robust to outliers and missing data\r\n",
    "* Good performance with medium-sized agricultural datasets\r\n",
    "\r\n",
    "**4. Data Flow Diagram Description:**\r\n",
    "\r\n",
    "1. **IoT Sensors:** Collect data from the environment.\r\n",
    "2. **Edge Device (e.g., Raspberry Pi):** Pre-processes and transmits data.\r\n",
    "3. **Network Layer (Wi-Fi/LoRa):** Sends data to the cloud or a local server.\r\n",
    "4. **Data Storage:** Stores historical and incoming sensor data.\r\n",
    "5. **AI Processing Unit (Colab/Server):** Trains and runs predictions.\r\n",
    "6. **User Interface (Web App/SMS Dashboard):** Displays results to the farmer.\r\n",
    "\r\n",
    "**5. Expected Benefits:**\r\n",
    "\r\n",
    "* Accurate yield prediction for better planning\r\n",
    "* Optimized resource usage (water, fertilizer)\r\n",
    "* Reduced crop failure risk through early intervention\r\n",
    "* Informed decision-making for harvesting and selling\r\n",
    "\r\n",
    "**6. Summary:**\r\n",
    "SmartAgriAI proposes a seamless AI-IoT integration to address the challenges of modern farming. By monitoring critical environmental parameters and applying predictive models, farmers can make i\\[Cloud Storage] --> \\[AI Model] --> \\[Dashboard/Alerts]\r\n",
    "r learning.ctare) with confidence intervals."
   ]
  },
  {
   "cell_type": "code",
   "execution_count": 10,
   "id": "4a316384-b56c-4553-af10-a46d03cf78fd",
   "metadata": {},
   "outputs": [
    {
     "name": "stdout",
     "output_type": "stream",
     "text": [
      "R2 Score: -0.213757793652533\n",
      "MSE: 862711.9432254874\n"
     ]
    }
   ],
   "source": [
    "import numpy as np\n",
    "import pandas as pd\n",
    "from sklearn.ensemble import RandomForestRegressor\n",
    "from sklearn.model_selection import train_test_split\n",
    "from sklearn.metrics import r2_score, mean_squared_error\n",
    "\n",
    "# Simulate IoT sensor dataset\n",
    "np.random.seed(42)\n",
    "df = pd.DataFrame({\n",
    "    'soil_moisture': np.random.uniform(10, 80, 100),\n",
    "    'temperature': np.random.uniform(15, 35, 100),\n",
    "    'humidity': np.random.uniform(30, 90, 100),\n",
    "    'light_intensity': np.random.uniform(1000, 8000, 100),\n",
    "    'soil_pH': np.random.uniform(5.5, 7.5, 100),\n",
    "    'rainfall': np.random.uniform(0, 100, 100)\n",
    "})\n",
    "\n",
    "# Create a target column (crop yield) with some correlation\n",
    "df['yield_kg_per_hectare'] = (\n",
    "    20 * df['soil_moisture'] +\n",
    "    10 * df['temperature'] -\n",
    "    5 * df['soil_pH'] +\n",
    "    np.random.normal(0, 100, 100)  # Add noise\n",
    ")\n",
    "\n",
    "\n",
    "df = pd.DataFrame(data)\n",
    "\n",
    "# Split features and target\n",
    "X = df.drop('yield_kg_per_hectare', axis=1)\n",
    "y = df['yield_kg_per_hectare']\n",
    "\n",
    "# Train-test split\n",
    "X_train, X_test, y_train, y_test = train_test_split(X, y, test_size=0.2, random_state=42)\n",
    "\n",
    "# Train Random Forest Regressor\n",
    "model = RandomForestRegressor(n_estimators=100, random_state=42)\n",
    "model.fit(X_train, y_train)\n",
    "\n",
    "# Predictions and evaluation\n",
    "y_pred = model.predict(X_test)\n",
    "print(\"R2 Score:\", r2_score(y_test, y_pred))\n",
    "print(\"MSE:\", mean_squared_error(y_test, y_pred))\n"
   ]
  },
  {
   "cell_type": "markdown",
   "id": "6b2d55d3-3329-4124-923a-f07e8d37c71d",
   "metadata": {},
   "source": [
    "**Data Flow Diagram (Textual Version**\n",
    "\n",
    "[IoT Sensors] → [Edge Device] → [Wireless Network] → [Cloud/Local DB] → [AI Model] → [Farmer Dashboard or Alert System]\r\n"
   ]
  },
  {
   "cell_type": "code",
   "execution_count": null,
   "id": "6d13526a-45ed-46c3-9807-3510b04b2135",
   "metadata": {},
   "outputs": [],
   "source": [
    "# Stage your notebook file\n",
    "!git add.ipynb\n",
    "\n",
    "# Commit your changes with a message\n",
    "!git commit -m \"Completed Task 3: predictive model with Random Forest\"\n"
   ]
  }
 ],
 "metadata": {
  "kernelspec": {
   "display_name": "anaconda-panel-2023.05-py310",
   "language": "python",
   "name": "conda-env-anaconda-panel-2023.05-py310-py"
  },
  "language_info": {
   "codemirror_mode": {
    "name": "ipython",
    "version": 3
   },
   "file_extension": ".py",
   "mimetype": "text/x-python",
   "name": "python",
   "nbconvert_exporter": "python",
   "pygments_lexer": "ipython3",
   "version": "3.11.5"
  }
 },
 "nbformat": 4,
 "nbformat_minor": 5
}
